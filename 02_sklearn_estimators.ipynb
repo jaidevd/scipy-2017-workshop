{
 "cells": [
  {
   "cell_type": "markdown",
   "metadata": {},
   "source": [
    "# The Estimator Object and its Interface"
   ]
  },
  {
   "cell_type": "markdown",
   "metadata": {},
   "source": [
    "```python\n",
    "\n",
    "class SomeEstimator(BaseEstimator):\n",
    "\n",
    "    def __init__(self, parameters):\n",
    "        self.parameters = parameters\n",
    "    \n",
    "    def fit(self, X, y):\n",
    "        \"\"\"\n",
    "        Always takes two (for supervised learning) or one (for unsupervised learning) inputs,\n",
    "        and trains a model.\n",
    "        \"\"\"\n",
    "    \n",
    "    def predict(self, X):\n",
    "        \"\"\"\n",
    "        Always takes a single variable, on which to make prediction\n",
    "        \"\"\"\n",
    "    \n",
    "    def get_params(self):\n",
    "        \"\"\"\n",
    "        Used to retrieve the parameters of the trained model\n",
    "        \"\"\"\n",
    "```"
   ]
  },
  {
   "cell_type": "markdown",
   "metadata": {},
   "source": [
    "# Usage of the Estimator object"
   ]
  },
  {
   "cell_type": "markdown",
   "metadata": {},
   "source": [
    "```python\n",
    ">>> estimator = SomeEstimator(optional_parameters)\n",
    ">>> estimator.fit(X, y) # training\n",
    ">>> prediction = estimator.predict(xNew)\n",
    ">>> print(metric_function(y, prediction))\n",
    "```"
   ]
  },
  {
   "cell_type": "code",
   "execution_count": 1,
   "metadata": {
    "collapsed": true
   },
   "outputs": [],
   "source": [
    "# Pick a model for classification, check docstring,\n",
    "# add some non-default params, retrieve attributes and parameters\n",
    "# Repeat for regression"
   ]
  }
 ],
 "metadata": {
  "kernelspec": {
   "display_name": "Python 3",
   "language": "python",
   "name": "python3"
  },
  "language_info": {
   "codemirror_mode": {
    "name": "ipython",
    "version": 3
   },
   "file_extension": ".py",
   "mimetype": "text/x-python",
   "name": "python",
   "nbconvert_exporter": "python",
   "pygments_lexer": "ipython3",
   "version": "3.6.1"
  }
 },
 "nbformat": 4,
 "nbformat_minor": 2
}
